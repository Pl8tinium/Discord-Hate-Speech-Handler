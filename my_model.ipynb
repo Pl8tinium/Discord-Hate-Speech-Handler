{
 "cells": [
  {
   "cell_type": "code",
   "execution_count": 1,
   "metadata": {},
   "outputs": [
    {
     "name": "stderr",
     "output_type": "stream",
     "text": [
      "/home/user/.pyenv/versions/3.8.20/lib/python3.8/site-packages/tqdm/auto.py:21: TqdmWarning: IProgress not found. Please update jupyter and ipywidgets. See https://ipywidgets.readthedocs.io/en/stable/user_install.html\n",
      "  from .autonotebook import tqdm as notebook_tqdm\n"
     ]
    }
   ],
   "source": [
    "import torch\n",
    "from transformers import BertModel, BertTokenizerFast, get_scheduler\n",
    "from torch.utils.data import Dataset, DataLoader\n",
    "import torch.nn as nn\n",
    "import matplotlib.pyplot as plt\n",
    "from tqdm import tqdm\n",
    "\n",
    "%load_ext autoreload\n",
    "%autoreload 2\n",
    "%reload_ext autoreload\n",
    "\n",
    "from tools import DatasetProvider, EvaluateTools"
   ]
  },
  {
   "cell_type": "markdown",
   "metadata": {},
   "source": [
    "# NOTE: Supply API token\n",
    "\n",
    "Provide your huggingface API token (Readonly) so the superset model can be fetched. Also visit the following URL, login and accept the EULA of the model.\n",
    "\n",
    "https://huggingface.co/datasets/manueltonneau/german-hate-speech-superset\n",
    "\n",
    "## Running on Jupyterhub\n",
    "\n",
    "Please supply your token via this env configuration.\n",
    "\n",
    "%env HF_AUTH_TOKEN=<YOUR_TOKEN>\n",
    "\n",
    "## Running locally\n",
    "\n",
    "When running locally you can supply it via a .env file (see _.env.example_). "
   ]
  },
  {
   "cell_type": "code",
   "execution_count": null,
   "metadata": {},
   "outputs": [],
   "source": [
    "# Jupyterhub: INSERT HF TOKEN HERE\n",
    "\n",
    "%env HF_AUTH_TOKEN=<YOUR_TOKEN>"
   ]
  },
  {
   "cell_type": "code",
   "execution_count": 2,
   "metadata": {},
   "outputs": [],
   "source": [
    "# Load the model and tokenizer\n",
    "model_name = \"dbmdz/bert-base-german-uncased\"\n",
    "tokenizer = BertTokenizerFast.from_pretrained(model_name)\n",
    "base_model = BertModel.from_pretrained(model_name)\n",
    "\n",
    "for param in base_model.parameters():\n",
    "    param.requires_grad = False"
   ]
  },
  {
   "cell_type": "code",
   "execution_count": 3,
   "metadata": {},
   "outputs": [],
   "source": [
    "# create the necessary loaders for a given dataset by encoding the text data\n",
    "def train_encodings(X_train, X_test, y_train, y_test):\n",
    "    train_encodings = tokenizer(X_train, truncation=True, padding=True, return_tensors=\"pt\")\n",
    "    test_encodings = tokenizer(X_test, truncation=True, padding=True, return_tensors=\"pt\")\n",
    "\n",
    "    train_labels = torch.tensor(y_train, dtype=torch.long)\n",
    "    test_labels = torch.tensor(y_test, dtype=torch.long)\n",
    "\n",
    "    class TextDataset(Dataset):\n",
    "        def __init__(self, encodings, labels):\n",
    "            self.encodings = encodings\n",
    "            self.labels = labels\n",
    "        \n",
    "        def __getitem__(self, idx):\n",
    "            item = {key: val[idx] for key, val in self.encodings.items()}\n",
    "            item['labels'] = self.labels[idx]\n",
    "            return item\n",
    "        \n",
    "        def __len__(self):\n",
    "            return len(self.labels)\n",
    "\n",
    "    train_dataset = TextDataset(train_encodings, train_labels)\n",
    "    test_dataset = TextDataset(test_encodings, test_labels)\n",
    "\n",
    "    train_loader = DataLoader(train_dataset, batch_size=16, shuffle=False) # shuffle=True was before, set it to False because i shuffle anyways in the dataset fetch\n",
    "    test_loader = DataLoader(test_dataset, batch_size=16, shuffle=False)\n",
    "    \n",
    "    return train_loader, test_loader"
   ]
  },
  {
   "cell_type": "code",
   "execution_count": 4,
   "metadata": {},
   "outputs": [],
   "source": [
    "class CustomBertClassifier(nn.Module):\n",
    "    def __init__(self, base_model, num_labels=2, hidden_size=768, intermediate_size=512, dropout_prob=0.3):\n",
    "        super(CustomBertClassifier, self).__init__()\n",
    "        self.bert = base_model\n",
    "        \n",
    "        self.fc1 = nn.Linear(hidden_size, intermediate_size)\n",
    "        self.bn1 = nn.BatchNorm1d(intermediate_size)\n",
    "        self.activation1 = nn.ReLU()\n",
    "        self.dropout1 = nn.Dropout(dropout_prob)\n",
    "        \n",
    "        self.fc2 = nn.Linear(intermediate_size, intermediate_size // 2)\n",
    "        self.bn2 = nn.BatchNorm1d(intermediate_size // 2)\n",
    "        self.activation2 = nn.ReLU()\n",
    "        self.dropout2 = nn.Dropout(dropout_prob)\n",
    "        \n",
    "        # Final classifier layer\n",
    "        self.classifier = nn.Linear(intermediate_size // 2, num_labels)\n",
    "        \n",
    "    def forward(self, input_ids, attention_mask):\n",
    "        with torch.no_grad():\n",
    "            # Pass through BERT to get embeddings, no gradient\n",
    "            outputs = self.bert(input_ids=input_ids, attention_mask=attention_mask)\n",
    "        \n",
    "        # Extract the [CLS] token's representation\n",
    "        cls_output = outputs.last_hidden_state[:, 0, :]  # shape: (batch_size, hidden_size)\n",
    "        \n",
    "        x = self.fc1(cls_output)\n",
    "        x = self.bn1(x)\n",
    "        x = self.activation1(x)\n",
    "        x = self.dropout1(x)\n",
    "        \n",
    "        x = self.fc2(x)\n",
    "        x = self.bn2(x)\n",
    "        x = self.activation2(x)\n",
    "        x = self.dropout2(x)\n",
    "        \n",
    "        # Final classification layer\n",
    "        logits = self.classifier(x)  # shape: (batch_size, num_labels)\n",
    "        \n",
    "        return logits\n"
   ]
  },
  {
   "cell_type": "code",
   "execution_count": 5,
   "metadata": {},
   "outputs": [
    {
     "data": {
      "text/plain": [
       "CustomBertClassifier(\n",
       "  (bert): BertModel(\n",
       "    (embeddings): BertEmbeddings(\n",
       "      (word_embeddings): Embedding(31102, 768, padding_idx=0)\n",
       "      (position_embeddings): Embedding(512, 768)\n",
       "      (token_type_embeddings): Embedding(2, 768)\n",
       "      (LayerNorm): LayerNorm((768,), eps=1e-12, elementwise_affine=True)\n",
       "      (dropout): Dropout(p=0.1, inplace=False)\n",
       "    )\n",
       "    (encoder): BertEncoder(\n",
       "      (layer): ModuleList(\n",
       "        (0-11): 12 x BertLayer(\n",
       "          (attention): BertAttention(\n",
       "            (self): BertSdpaSelfAttention(\n",
       "              (query): Linear(in_features=768, out_features=768, bias=True)\n",
       "              (key): Linear(in_features=768, out_features=768, bias=True)\n",
       "              (value): Linear(in_features=768, out_features=768, bias=True)\n",
       "              (dropout): Dropout(p=0.1, inplace=False)\n",
       "            )\n",
       "            (output): BertSelfOutput(\n",
       "              (dense): Linear(in_features=768, out_features=768, bias=True)\n",
       "              (LayerNorm): LayerNorm((768,), eps=1e-12, elementwise_affine=True)\n",
       "              (dropout): Dropout(p=0.1, inplace=False)\n",
       "            )\n",
       "          )\n",
       "          (intermediate): BertIntermediate(\n",
       "            (dense): Linear(in_features=768, out_features=3072, bias=True)\n",
       "            (intermediate_act_fn): GELUActivation()\n",
       "          )\n",
       "          (output): BertOutput(\n",
       "            (dense): Linear(in_features=3072, out_features=768, bias=True)\n",
       "            (LayerNorm): LayerNorm((768,), eps=1e-12, elementwise_affine=True)\n",
       "            (dropout): Dropout(p=0.1, inplace=False)\n",
       "          )\n",
       "        )\n",
       "      )\n",
       "    )\n",
       "    (pooler): BertPooler(\n",
       "      (dense): Linear(in_features=768, out_features=768, bias=True)\n",
       "      (activation): Tanh()\n",
       "    )\n",
       "  )\n",
       "  (classifier): Linear(in_features=768, out_features=2, bias=True)\n",
       ")"
      ]
     },
     "execution_count": 5,
     "metadata": {},
     "output_type": "execute_result"
    }
   ],
   "source": [
    "# Create the model\n",
    "num_labels = 2\n",
    "model = CustomBertClassifier(base_model, num_labels=num_labels)\n",
    "\n",
    "device = torch.device(\"cuda\" if torch.cuda.is_available() else \"cpu\")\n",
    "model.to(device)"
   ]
  },
  {
   "cell_type": "code",
   "execution_count": null,
   "metadata": {},
   "outputs": [],
   "source": [
    "# Create the optimizer and learning rate scheduler that adjusts the learning rate during training\n",
    "def init_optimizer(train_loader, num_epochs):\n",
    "    optimizer = torch.optim.AdamW(model.classifier.parameters(), lr=5e-5, weight_decay=0.01)\n",
    "    \n",
    "    num_training_steps = len(train_loader) * num_epochs\n",
    "    lr_scheduler = get_scheduler(\n",
    "        name=\"cosine\", optimizer=optimizer, num_warmup_steps=100, num_training_steps=num_training_steps\n",
    "    )\n",
    "    return lr_scheduler, optimizer"
   ]
  },
  {
   "cell_type": "code",
   "execution_count": null,
   "metadata": {},
   "outputs": [],
   "source": [
    "# weighted loss function, boost weight for 0 because model had a very low precision (false positives, guessing incorrectly that smth is offensive)\n",
    "class_weights = [1.5, 1.0]\n",
    "class_weights_tensor = torch.tensor(class_weights).to(device)\n",
    "loss_fn = nn.CrossEntropyLoss(weight=class_weights_tensor)"
   ]
  },
  {
   "cell_type": "code",
   "execution_count": null,
   "metadata": {},
   "outputs": [],
   "source": [
    "# train the model on one batch\n",
    "def infer_batch(batch):\n",
    "    input_ids = batch['input_ids'].to(device)\n",
    "    attention_mask = batch['attention_mask'].to(device)\n",
    "    labels = batch['labels'].to(device)\n",
    "\n",
    "    # forward pass\n",
    "    logits = model(input_ids, attention_mask=attention_mask)\n",
    "\n",
    "    # compute loss using weighted CrossEntropyLoss\n",
    "    loss = loss_fn(logits.view(-1, logits.size(-1)), labels.view(-1))\n",
    "\n",
    "    return loss, logits"
   ]
  },
  {
   "cell_type": "code",
   "execution_count": 7,
   "metadata": {},
   "outputs": [],
   "source": [
    "# evaluate the model on the test set\n",
    "def evaluate_model(model, test_loader):\n",
    "    model.eval()\n",
    "    test_loss = 0\n",
    "    with torch.no_grad():\n",
    "        for batch in test_loader:\n",
    "            loss, logits = infer_batch(batch)\n",
    "            \n",
    "            test_loss += loss.item()\n",
    "    \n",
    "    return test_loss / len(test_loader)"
   ]
  },
  {
   "cell_type": "code",
   "execution_count": 8,
   "metadata": {},
   "outputs": [],
   "source": [
    "# Train the model on the training set\n",
    "def train_model(train_loader, test_loader, optimizer, lr_scheduler, num_epochs = 3):\n",
    "    model.train()\n",
    "    training_losses = []\n",
    "    test_losses = []\n",
    "\n",
    "    for epoch in range(num_epochs):\n",
    "        epoch_training_loss = 0\n",
    "        progress_bar = tqdm(train_loader, desc=f\"Epoch {epoch+1}/{num_epochs}\")\n",
    "\n",
    "        for batch in progress_bar:\n",
    "            optimizer.zero_grad()\n",
    "\n",
    "            loss, logits = infer_batch(batch)\n",
    "            \n",
    "            loss.backward()\n",
    "            optimizer.step()\n",
    "            \n",
    "            epoch_training_loss += loss.item()\n",
    "            progress_bar.set_postfix({\"loss\": loss.item()})\n",
    "        \n",
    "        lr_scheduler.step()  # Adjust learning rate\n",
    "\n",
    "        # Average training loss for the epoch\n",
    "        training_losses.append(epoch_training_loss / len(train_loader))\n",
    "\n",
    "        # Evaluate on the test set\n",
    "        test_loss = evaluate_model(model, test_loader)\n",
    "        test_losses.append(test_loss)\n",
    "\n",
    "    return training_losses, test_losses"
   ]
  },
  {
   "cell_type": "code",
   "execution_count": 9,
   "metadata": {},
   "outputs": [],
   "source": [
    "# plot the training and test loss curves\n",
    "def plot_training_curves(num_epochs, training_losses, test_losses):\n",
    "    plt.figure(figsize=(10, 6))\n",
    "    plt.plot(range(1, num_epochs + 1), training_losses, label='Training Loss')\n",
    "    plt.plot(range(1, num_epochs + 1), test_losses, label='Test Loss')\n",
    "    plt.xlabel('Epochs')\n",
    "    plt.ylabel('Loss')\n",
    "    plt.title('Training vs Test Loss')\n",
    "    plt.legend()\n",
    "    plt.show()"
   ]
  },
  {
   "cell_type": "code",
   "execution_count": 10,
   "metadata": {
    "tags": []
   },
   "outputs": [],
   "source": [
    "# get the predictions of the model on the test set\n",
    "def get_predictions(model, test_loader):\n",
    "    model.eval()\n",
    "    predictions = []\n",
    "    true_labels = []\n",
    "\n",
    "    with torch.no_grad():\n",
    "        for batch in test_loader:\n",
    "            input_ids = batch['input_ids'].to(device)\n",
    "            attention_mask = batch['attention_mask'].to(device)\n",
    "            labels = batch['labels'].cpu().numpy()\n",
    "\n",
    "            logits = model(input_ids, attention_mask)\n",
    "            preds = torch.argmax(logits, dim=-1).cpu().numpy()\n",
    "\n",
    "            predictions.extend(preds)\n",
    "            true_labels.extend(labels)\n",
    "\n",
    "    return predictions, true_labels"
   ]
  },
  {
   "cell_type": "markdown",
   "metadata": {},
   "source": [
    "# Training on Germ Eval 18"
   ]
  },
  {
   "cell_type": "code",
   "execution_count": 11,
   "metadata": {},
   "outputs": [
    {
     "name": "stdout",
     "output_type": "stream",
     "text": [
      "Downloading dataset...\n",
      "Sample Data:\n",
      "{'text': '@corinnamilborn Liebe Corinna, wir würden dich gerne als Moderatorin für uns gewinnen! Wärst du begeisterbar?', 'label': 0}\n",
      "\n",
      "Data Length:\n",
      "8407\n",
      "Number of labels with 1: 2838\n",
      "Number of labels with 0: 5569\n"
     ]
    }
   ],
   "source": [
    "dataset_name=\"philschmid/germeval18\"\n",
    "dataset_germeval = DatasetProvider.get_germ_eval_18(dataset_name, num_samples=5000)\n",
    "DatasetProvider.stats(dataset_germeval)"
   ]
  },
  {
   "cell_type": "code",
   "execution_count": 12,
   "metadata": {},
   "outputs": [
    {
     "name": "stdout",
     "output_type": "stream",
     "text": [
      "Training samples: 6725, Test samples: 1682\n"
     ]
    }
   ],
   "source": [
    "X_train, X_test, y_train, y_test = DatasetProvider.split_data(dataset_germeval)"
   ]
  },
  {
   "cell_type": "code",
   "execution_count": 13,
   "metadata": {},
   "outputs": [],
   "source": [
    "train_loader, test_loader = train_encodings(X_train, X_test, y_train, y_test)"
   ]
  },
  {
   "cell_type": "code",
   "execution_count": 14,
   "metadata": {},
   "outputs": [
    {
     "name": "stderr",
     "output_type": "stream",
     "text": [
      "Epoch 1/3:   0%|          | 0/421 [00:00<?, ?it/s]"
     ]
    },
    {
     "name": "stderr",
     "output_type": "stream",
     "text": [
      "Epoch 1/3: 100%|██████████| 421/421 [01:28<00:00,  4.77it/s, loss=0.826]\n",
      "Epoch 2/3: 100%|██████████| 421/421 [01:26<00:00,  4.86it/s, loss=0.598]\n",
      "Epoch 3/3: 100%|██████████| 421/421 [01:23<00:00,  5.05it/s, loss=0.631]\n"
     ]
    }
   ],
   "source": [
    "num_epochs = 250\n",
    "lr_scheduler, optimizer = init_optimizer(train_loader, num_epochs)\n",
    "training_losses, test_losses = train_model(train_loader, test_loader, optimizer, lr_scheduler, num_epochs=num_epochs)"
   ]
  },
  {
   "cell_type": "code",
   "execution_count": 15,
   "metadata": {},
   "outputs": [
    {
     "data": {
      "image/png": "[encoded data removed]",
      "text/plain": [
       "<Figure size 1000x600 with 1 Axes>"
      ]
     },
     "metadata": {},
     "output_type": "display_data"
    }
   ],
   "source": [
    "plot_training_curves(num_epochs, training_losses, test_losses)"
   ]
  },
  {
   "cell_type": "code",
   "execution_count": 16,
   "metadata": {},
   "outputs": [
    {
     "name": "stdout",
     "output_type": "stream",
     "text": [
      "Model Evaluation Metrics:\n",
      "Accuracy: 0.6706\n",
      "Precision: 0.0827\n",
      "Recall: 0.5875\n",
      "F1 Score: 0.1451\n"
     ]
    },
    {
     "data": {
      "image/png": "[encoded data removed]",
      "text/plain": [
       "<Figure size 800x600 with 1 Axes>"
      ]
     },
     "metadata": {},
     "output_type": "display_data"
    }
   ],
   "source": [
    "predictions, true_labels = get_predictions(model, test_loader)\n",
    "metrics = EvaluateTools.calc_metrics(true_labels, predictions)\n",
    "EvaluateTools.plot_metrics(metrics, model_name + ' my custom classification', dataset_name)"
   ]
  },
  {
   "cell_type": "markdown",
   "metadata": {},
   "source": [
    "# Training on german superset"
   ]
  },
  {
   "cell_type": "code",
   "execution_count": 17,
   "metadata": {},
   "outputs": [],
   "source": [
    "dataset_name = \"manueltonneau/german-hate-speech-superset\"\n",
    "dataset_superset = DatasetProvider.get_superset(dataset_name, num_samples=40000)\n",
    "DatasetProvider.stats(dataset_superset)"
   ]
  },
  {
   "cell_type": "code",
   "execution_count": 18,
   "metadata": {},
   "outputs": [],
   "source": [
    "X_train, X_test, y_train, y_test = DatasetProvider.split_data(dataset_superset)"
   ]
  },
  {
   "cell_type": "code",
   "execution_count": 19,
   "metadata": {},
   "outputs": [],
   "source": [
    "train_loader, test_loader = train_encodings(X_train, X_test, y_train, y_test)"
   ]
  },
  {
   "cell_type": "code",
   "execution_count": 20,
   "metadata": {},
   "outputs": [],
   "source": [
    "num_epochs = 250\n",
    "lr_scheduler, optimizer = init_optimizer(train_loader, num_epochs)\n",
    "training_losses, test_losses = train_model(train_loader, test_loader, optimizer, lr_scheduler, num_epochs=num_epochs)"
   ]
  },
  {
   "cell_type": "code",
   "execution_count": 21,
   "metadata": {},
   "outputs": [],
   "source": [
    "plot_training_curves(num_epochs, training_losses, test_losses)"
   ]
  },
  {
   "cell_type": "code",
   "execution_count": 22,
   "metadata": {},
   "outputs": [],
   "source": [
    "predictions, true_labels = get_predictions(model, test_loader)\n",
    "metrics = EvaluateTools.calc_metrics(true_labels, predictions)\n",
    "EvaluateTools.plot_metrics(metrics, model_name + ' my custom classification', dataset_name)"
   ]
  }
 ],
 "metadata": {
  "kernelspec": {
   "display_name": "3.8.20",
   "language": "python",
   "name": "python3"
  },
  "language_info": {
   "codemirror_mode": {
    "name": "ipython",
    "version": 3
   },
   "file_extension": ".py",
   "mimetype": "text/x-python",
   "name": "python",
   "nbconvert_exporter": "python",
   "pygments_lexer": "ipython3",
   "version": "3.8.20"
  }
 },
 "nbformat": 4,
 "nbformat_minor": 4
}
